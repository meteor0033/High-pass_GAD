{
 "cells": [
  {
   "cell_type": "code",
   "execution_count": 1,
   "id": "e81bf56d",
   "metadata": {},
   "outputs": [],
   "source": [
    "import dgl\n",
    "import torch\n",
    "import torch.nn.functional as F\n",
    "# 其中包括激活函数, 损失函数, 池化函数 ,通过 F.xxx() 的形式，可以方便地调用 torch.nn.functional 模块中的各种函数\n",
    "import numpy\n",
    "import argparse\n",
    "import time\n",
    "from dataset_process.dataset import Dataset\n",
    "from sklearn.metrics import f1_score, accuracy_score, recall_score, roc_auc_score, precision_score, confusion_matrix\n",
    "from model.GIN_anomaly import *\n",
    "from sklearn.model_selection import train_test_split\n",
    "from torch.nn.functional import relu"
   ]
  },
  {
   "cell_type": "code",
   "execution_count": 2,
   "id": "95601549",
   "metadata": {},
   "outputs": [],
   "source": [
    "def train(model, g, args):\n",
    "    features = g.ndata['feature']\n",
    "    labels = g.ndata['label']\n",
    "    index = list(range(len(labels)))\n",
    "    if dataset_name == 'amazon':\n",
    "        index = list(range(3305, len(labels)))\n",
    "\n",
    "    idx_train, idx_rest, y_train, y_rest = train_test_split(index, labels[index], stratify=labels[index],\n",
    "                                                            train_size=args.train_ratio,\n",
    "                                                            random_state=2, shuffle=True)\n",
    "    idx_valid, idx_test, y_valid, y_test = train_test_split(idx_rest, y_rest, stratify=y_rest,\n",
    "                                                            test_size=0.67,\n",
    "                                                            random_state=2, shuffle=True)\n",
    "    train_mask = torch.zeros([len(labels)]).bool()\n",
    "    val_mask = torch.zeros([len(labels)]).bool()\n",
    "    test_mask = torch.zeros([len(labels)]).bool()\n",
    "\n",
    "    train_mask[idx_train] = 1\n",
    "    val_mask[idx_valid] = 1\n",
    "    test_mask[idx_test] = 1\n",
    "    print('train/dev/test samples: ', train_mask.sum().item(), val_mask.sum().item(), test_mask.sum().item())\n",
    "    optimizer = torch.optim.Adam(model.parameters(), lr=0.01)\n",
    "    best_f1, final_tf1, final_trec, final_tpre, final_tmf1, final_tauc = 0., 0., 0., 0., 0., 0.\n",
    "\n",
    "    weight = (1-labels[train_mask]).sum().item() / labels[train_mask].sum().item()\n",
    "    print('cross entropy weight: ', weight)\n",
    "    time_start = time.time()\n",
    "    for e in range(args.epoch):\n",
    "        # 训练\n",
    "        model.train()\n",
    "        # 调用模型中的forward函数\n",
    "        logits = model(features)\n",
    "        loss = F.cross_entropy(logits[train_mask], labels[train_mask], weight=torch.tensor([1., weight]))\n",
    "        optimizer.zero_grad()\n",
    "        loss.backward()\n",
    "        optimizer.step()\n",
    "        #验证\n",
    "        model.eval()\n",
    "        probs = logits.softmax(1)\n",
    "        f1, thres = get_best_f1(labels[val_mask], probs[val_mask])\n",
    "        preds = numpy.zeros_like(labels)\n",
    "        preds[probs[:, 1] > thres] = 1\n",
    "        trec = recall_score(labels[test_mask], preds[test_mask])\n",
    "        tpre = precision_score(labels[test_mask], preds[test_mask])\n",
    "        tmf1 = f1_score(labels[test_mask], preds[test_mask], average='macro')\n",
    "        tauc = roc_auc_score(labels[test_mask], probs[test_mask][:, 1].detach().numpy())\n",
    "\n",
    "        if best_f1 < f1:\n",
    "            best_f1 = f1\n",
    "            final_trec = trec\n",
    "            final_tpre = tpre\n",
    "            final_tmf1 = tmf1\n",
    "            final_tauc = tauc\n",
    "        print('Epoch {}, loss: {:.4f}, val mf1: {:.4f}, (best {:.4f})'.format(e, loss, f1, best_f1))\n",
    "\n",
    "    time_end = time.time()\n",
    "    print('time cost: ', time_end - time_start, 's')\n",
    "    print('Test: REC {:.2f} PRE {:.2f} MF1 {:.2f} AUC {:.2f}'.format(final_trec*100,\n",
    "                                                                     final_tpre*100, final_tmf1*100, final_tauc*100))\n",
    "    return final_tmf1, final_tauc\n",
    "\n",
    "\n",
    "# threshold adjusting for best macro f1\n",
    "def get_best_f1(labels, probs):\n",
    "    best_f1, best_thre = 0, 0\n",
    "    for thres in np.linspace(0.05, 0.95, 19):\n",
    "        #构建一个与labels同维度的数组,并初始化所有变量为零\n",
    "        preds = np.zeros_like(labels)\n",
    "        preds[probs[:,1] > thres] = 1\n",
    "        #average='binary'：计算二分类问题中的 F1 分数（默认值）。\n",
    "        #average='micro'：对所有类别的真实和预测样本进行汇总，然后计算 F1 分数。\n",
    "        #average='macro'：计算每个类别的 F1 分数，然后取平均值。\n",
    "        #average=None：返回每个类别的 F1 分数。\n",
    "        # F1_score 详细原理间“备份”\n",
    "        mf1 = f1_score(labels, preds, average='macro')\n",
    "        if mf1 > best_f1:\n",
    "            best_f1 = mf1\n",
    "            best_thre = thres\n",
    "    return best_f1, best_thre\n"
   ]
  },
  {
   "cell_type": "code",
   "execution_count": 3,
   "id": "28cdf3a6",
   "metadata": {},
   "outputs": [
    {
     "name": "stdout",
     "output_type": "stream",
     "text": [
      "Namespace(dataset='tsocial', train_ratio=0.01, hid_dim=10, homo=1, epoch=100, run=1)\n",
      "Graph(num_nodes=5781065, num_edges=146211016,\n",
      "      ndata_schemes={'feature': Scheme(shape=(10,), dtype=torch.float32), 'label': Scheme(shape=(), dtype=torch.int64), '_ID': Scheme(shape=(), dtype=torch.int64)}\n",
      "      edata_schemes={'_ID': Scheme(shape=(), dtype=torch.int64)})\n"
     ]
    }
   ],
   "source": [
    "parser = argparse.ArgumentParser(description='GIN_GAD')\n",
    "parser.add_argument(\"--dataset\", type=str, default=\"tsocial\",\n",
    "                        help=\"Dataset for this model (yelp/amazon/tfinance/tsocial)\")\n",
    "parser.add_argument(\"--train_ratio\", type=float, default=0.01, help=\"Training ratio\")\n",
    "# 注意：hid_dim 和 图特征维度保持一致 \n",
    "parser.add_argument(\"--hid_dim\", type=int, default=10, help=\"Hidden layer dimension\")\n",
    "parser.add_argument(\"--homo\", type=int, default=1, help=\"1 for GIN_GAD(Homo) and 0 for GIN_GAD(Hetero)\")\n",
    "parser.add_argument(\"--epoch\", type=int, default=100, help=\"The max number of epochs\")\n",
    "parser.add_argument(\"--run\", type=int, default=1, help=\"Running times\")\n",
    "\n",
    "\n",
    "args = parser.parse_args(args = [])\n",
    "print(args)\n",
    "dataset_name = args.dataset\n",
    "homo = args.homo\n",
    "h_feats = args.hid_dim\n",
    "graph = Dataset(dataset_name, homo).graph\n",
    "#edge_index = Dataset(dataset_name, homo).edge_index"
   ]
  },
  {
   "cell_type": "code",
   "execution_count": 4,
   "id": "14b5cc7c",
   "metadata": {},
   "outputs": [
    {
     "ename": "NameError",
     "evalue": "name 'order' is not defined",
     "output_type": "error",
     "traceback": [
      "\u001b[1;31m---------------------------------------------------------------------------\u001b[0m",
      "\u001b[1;31mNameError\u001b[0m                                 Traceback (most recent call last)",
      "Cell \u001b[1;32mIn[4], line 17\u001b[0m\n\u001b[0;32m     14\u001b[0m \u001b[38;5;28;01mfor\u001b[39;00m tt \u001b[38;5;129;01min\u001b[39;00m \u001b[38;5;28mrange\u001b[39m(args\u001b[38;5;241m.\u001b[39mrun):\n\u001b[0;32m     15\u001b[0m     \u001b[38;5;28;01mif\u001b[39;00m homo:\n\u001b[0;32m     16\u001b[0m         \u001b[38;5;66;03m#in_feats 特征点维度；h_feats：隐层维度；num_classes：节点分类数（nomal，anomaly）\u001b[39;00m\n\u001b[1;32m---> 17\u001b[0m         model \u001b[38;5;241m=\u001b[39m GIN_GAD(in_feats, h_feats, num_classes, graph,d\u001b[38;5;241m=\u001b[39m\u001b[43morder\u001b[49m)\n\u001b[0;32m     18\u001b[0m     \u001b[38;5;28;01melse\u001b[39;00m:\n\u001b[0;32m     19\u001b[0m         model \u001b[38;5;241m=\u001b[39m GIN_GAD_Hetero(in_feats, h_feats, num_classes, graph, d\u001b[38;5;241m=\u001b[39morder)\n",
      "\u001b[1;31mNameError\u001b[0m: name 'order' is not defined"
     ]
    }
   ],
   "source": [
    "in_feats = graph.ndata['feature'].shape[1]\n",
    "num_classes = 2\n",
    "\n",
    "if args.run == 0:\n",
    "    if homo:\n",
    "        print(\"hello\")\n",
    "        model = GIN_GAD(in_feats, h_feats, num_classes, graph)\n",
    "    else:\n",
    "        model = GIN_GAD_Hetero(in_feats, h_feats, num_classes)\n",
    "        train(model, graph, args)\n",
    "\n",
    "else:\n",
    "    final_mf1s, final_aucs = [], []\n",
    "    for tt in range(args.run):\n",
    "        if homo:\n",
    "            #in_feats 特征点维度；h_feats：隐层维度；num_classes：节点分类数（nomal，anomaly）\n",
    "            model = GIN_GAD(in_feats, h_feats, num_classes, graph)\n",
    "        else:\n",
    "            model = GIN_GAD_Hetero(in_feats, h_feats, num_classes, graph)\n",
    "        mf1, auc = train(model, graph, args)\n",
    "        final_mf1s.append(mf1)\n",
    "        final_aucs.append(auc)\n",
    "    final_mf1s = np.array(final_mf1s)\n",
    "    final_aucs = np.array(final_aucs)\n",
    "    # np.std :计算全局标准差\n",
    "    print('MF1-mean: {:.2f}, MF1-std: {:.2f}, AUC-mean: {:.2f}, AUC-std: {:.2f}'.format(100 * np.mean(final_mf1s),\n",
    "                                                                                            100 * np.std(final_mf1s),\n",
    "                                                               100 * np.mean(final_aucs), 100 * np.std(final_aucs)))"
   ]
  },
  {
   "cell_type": "markdown",
   "id": "e7b61665",
   "metadata": {},
   "source": [
    "##  Test\n",
    "### 1. 按种类获取边（边存放在元组中，需要将元组转化为Tensor， 需要按边的种类，分别转化，不能一次将存放在元组中的边，转化为teosor）\n",
    "### 2. ChebConv 模型需要边的输入类型为 二维Tensor"
   ]
  },
  {
   "cell_type": "code",
   "execution_count": null,
   "id": "35fb2997",
   "metadata": {},
   "outputs": [],
   "source": [
    "from dgl.data import FraudYelpDataset, FraudAmazonDataset\n",
    "dataset = FraudAmazonDataset()\n",
    "graph = dataset[0]\n",
    "graph"
   ]
  },
  {
   "cell_type": "code",
   "execution_count": null,
   "id": "2d131ce4",
   "metadata": {},
   "outputs": [],
   "source": [
    "graph = dgl.to_homogeneous(dataset[0], ndata=['feature', 'label', 'train_mask', 'val_mask', 'test_mask'])\n",
    "graph = dgl.add_self_loop(graph)\n"
   ]
  },
  {
   "cell_type": "code",
   "execution_count": null,
   "id": "4c5451c5",
   "metadata": {},
   "outputs": [],
   "source": [
    "graph.local_scope()"
   ]
  },
  {
   "cell_type": "code",
   "execution_count": null,
   "id": "e1d2f7a1",
   "metadata": {},
   "outputs": [],
   "source": [
    "from dgl.data import FraudYelpDataset, FraudAmazonDataset\n",
    "dataset = FraudYelpDataset()\n",
    "graph = dataset[0]\n",
    "graph\n"
   ]
  },
  {
   "cell_type": "code",
   "execution_count": null,
   "id": "33c6121a",
   "metadata": {},
   "outputs": [],
   "source": [
    "for relation in graph.canonical_etypes:\n",
    "    print(relation)"
   ]
  },
  {
   "cell_type": "code",
   "execution_count": null,
   "id": "9c5a3010",
   "metadata": {},
   "outputs": [],
   "source": [
    "edges_uvu = graph[relation].edges()\n",
    "edge_index = torch.stack(edges_uvu)"
   ]
  },
  {
   "cell_type": "code",
   "execution_count": null,
   "id": "5023e692",
   "metadata": {},
   "outputs": [],
   "source": [
    "#三类边\n",
    "edges_upu = graph[graph.canonical_etypes[0]].edges()\n",
    "edge_index_upu = torch.stack(edges_upu)\n",
    "edges_usu = graph[graph.canonical_etypes[1]].edges()\n",
    "edge_index_usu = torch.stack(edges_usu)\n",
    "edges_uvu = graph[graph.canonical_etypes[2]].edges()\n",
    "edge_index_uvu = torch.stack(edges_uvu)\n",
    "\n",
    "\n",
    "# 合并连个Tensor，dim=1 按列合并\n",
    "combined_tensor = torch.cat((edge_index_upu, edge_index_usu), dim=1)\n",
    "edge_index = torch.cat((combined_tensor, edge_index_uvu), dim=1)"
   ]
  },
  {
   "cell_type": "code",
   "execution_count": null,
   "id": "eb1c1a26",
   "metadata": {},
   "outputs": [],
   "source": [
    "print(\"edge_index_upu.shape:\",edge_index_upu.shape)\n",
    "print(\"edge_index_usu.shape:\",edge_index_usu.shape)\n",
    "print(\"edge_index_uvu.shape:\",edge_index_uvu.shape)\n",
    "print(\"edge_index.shape:\",edge_index.shape)"
   ]
  },
  {
   "cell_type": "code",
   "execution_count": null,
   "id": "092ad58f",
   "metadata": {},
   "outputs": [],
   "source": [
    "g1 = graph[graph.canonical_etypes[0]]"
   ]
  },
  {
   "cell_type": "code",
   "execution_count": null,
   "id": "5a0b3c5d",
   "metadata": {},
   "outputs": [],
   "source": [
    "from dgl.data import FraudYelpDataset, FraudAmazonDataset\n",
    "dataset = FraudAmazonDataset()\n",
    "graph = dataset[0]"
   ]
  },
  {
   "cell_type": "code",
   "execution_count": null,
   "id": "115c514b",
   "metadata": {},
   "outputs": [],
   "source": [
    "g_upu = graph[graph.canonical_etypes[0]]"
   ]
  },
  {
   "cell_type": "code",
   "execution_count": null,
   "id": "7849077a",
   "metadata": {},
   "outputs": [],
   "source": [
    "g_upu.ndata['label'].shape"
   ]
  },
  {
   "cell_type": "code",
   "execution_count": null,
   "id": "f2452df5",
   "metadata": {},
   "outputs": [],
   "source": [
    "\n",
    "if homo:\n",
    "    graph = dgl.to_homogeneous(dataset[0], ndata=['feature', 'label', 'train_mask', 'val_mask', 'test_mask'])\n",
    "  \n",
    "    graph = dgl.add_self_loop(graph)\n",
    "                \n",
    "    #三类边\n",
    "    edges_upu = graph[graph.canonical_etypes[0]].edges()\n",
    "    edge_index_upu = torch.stack(edges_upu)\n",
    "    edges_usu = graph[graph.canonical_etypes[1]].edges()\n",
    "    edge_index_usu = torch.stack(edges_usu)\n",
    "    edges_uvu = graph[graph.canonical_etypes[2]].edges()\n",
    "    edge_index_uvu = torch.stack(edges_uvu)\n",
    "                \n",
    "    # 合并连个Tensor，dim=1 按列合并\n",
    "    combined_tensor = torch.cat((edge_index_upu, edge_index_usu), dim=1)\n",
    "    edge_index = torch.cat((combined_tensor, edge_index_uvu), dim=1)"
   ]
  },
  {
   "cell_type": "code",
   "execution_count": null,
   "id": "68e7d650",
   "metadata": {},
   "outputs": [],
   "source": [
    "print(graph.canonical_etypes)\n",
    "edge_index = graph.edges()\n",
    "edge_index = torch.stack(edge_index)"
   ]
  },
  {
   "cell_type": "markdown",
   "id": "92770cce",
   "metadata": {},
   "source": [
    "### 激活函数方面：nn.LeakyReLU(): LeakyReLU 是 ReLU 的一个变种，它允许负值通过一个小的斜率而不是将它们直接设为零。这个斜率是一个超参数，通常设置为一个小的正数，比如 0.01。这样做的目的是解决“ReLU 死亡神经元”问题，即某些神经元在训练过程中可能永远不会被激活，从而停止更新权重。LeakyReLU 在这种情况下可以提供更好的梯度流动，帮助网络更快地收敛。"
   ]
  },
  {
   "cell_type": "code",
   "execution_count": null,
   "id": "066abeb1",
   "metadata": {},
   "outputs": [],
   "source": []
  }
 ],
 "metadata": {
  "kernelspec": {
   "display_name": "Python 3 (ipykernel)",
   "language": "python",
   "name": "python3"
  },
  "language_info": {
   "codemirror_mode": {
    "name": "ipython",
    "version": 3
   },
   "file_extension": ".py",
   "mimetype": "text/x-python",
   "name": "python",
   "nbconvert_exporter": "python",
   "pygments_lexer": "ipython3",
   "version": "3.10.9"
  }
 },
 "nbformat": 4,
 "nbformat_minor": 5
}
