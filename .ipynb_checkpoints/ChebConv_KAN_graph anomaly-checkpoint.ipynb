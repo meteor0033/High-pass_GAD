{
 "cells": [
  {
   "cell_type": "code",
   "execution_count": 3,
   "id": "e81bf56d",
   "metadata": {},
   "outputs": [],
   "source": [
    "import dgl\n",
    "import torch\n",
    "import torch.nn.functional as F\n",
    "# 其中包括激活函数, 损失函数, 池化函数 ,通过 F.xxx() 的形式，可以方便地调用 torch.nn.functional 模块中的各种函数\n",
    "import numpy\n",
    "import argparse\n",
    "import time\n",
    "from dataset_process.dataset import Dataset\n",
    "from sklearn.metrics import f1_score, accuracy_score, recall_score, roc_auc_score, precision_score, confusion_matrix\n",
    "from model.ChebConv_kan_anomaly import *\n",
    "from sklearn.model_selection import train_test_split"
   ]
  },
  {
   "cell_type": "code",
   "execution_count": 4,
   "id": "95601549",
   "metadata": {},
   "outputs": [],
   "source": [
    "def train(model, g, args):\n",
    "    features = g.ndata['feature']\n",
    "    labels = g.ndata['label']\n",
    "    index = list(range(len(labels)))\n",
    "    if dataset_name == 'amazon':\n",
    "        index = list(range(3305, len(labels)))\n",
    "\n",
    "    idx_train, idx_rest, y_train, y_rest = train_test_split(index, labels[index], stratify=labels[index],\n",
    "                                                            train_size=args.train_ratio,\n",
    "                                                            random_state=2, shuffle=True)\n",
    "    idx_valid, idx_test, y_valid, y_test = train_test_split(idx_rest, y_rest, stratify=y_rest,\n",
    "                                                            test_size=0.67,\n",
    "                                                            random_state=2, shuffle=True)\n",
    "    train_mask = torch.zeros([len(labels)]).bool()\n",
    "    val_mask = torch.zeros([len(labels)]).bool()\n",
    "    test_mask = torch.zeros([len(labels)]).bool()\n",
    "\n",
    "    train_mask[idx_train] = 1\n",
    "    val_mask[idx_valid] = 1\n",
    "    test_mask[idx_test] = 1\n",
    "    print('train/dev/test samples: ', train_mask.sum().item(), val_mask.sum().item(), test_mask.sum().item())\n",
    "    optimizer = torch.optim.Adam(model.parameters(), lr=0.01)\n",
    "    best_f1, final_tf1, final_trec, final_tpre, final_tmf1, final_tauc = 0., 0., 0., 0., 0., 0.\n",
    "\n",
    "    weight = (1-labels[train_mask]).sum().item() / labels[train_mask].sum().item()\n",
    "    print('cross entropy weight: ', weight)\n",
    "    time_start = time.time()\n",
    "    for e in range(args.epoch):\n",
    "        # 训练\n",
    "        model.train()\n",
    "        # 调用模型中的forward函数\n",
    "        logits = model(features)\n",
    "        loss = F.cross_entropy(logits[train_mask], labels[train_mask], weight=torch.tensor([1., weight]))\n",
    "        optimizer.zero_grad()\n",
    "        loss.backward()\n",
    "        optimizer.step()\n",
    "        #验证\n",
    "        model.eval()\n",
    "        probs = logits.softmax(1)\n",
    "        f1, thres = get_best_f1(labels[val_mask], probs[val_mask])\n",
    "        preds = numpy.zeros_like(labels)\n",
    "        preds[probs[:, 1] > thres] = 1\n",
    "        trec = recall_score(labels[test_mask], preds[test_mask])\n",
    "        tpre = precision_score(labels[test_mask], preds[test_mask])\n",
    "        tmf1 = f1_score(labels[test_mask], preds[test_mask], average='macro')\n",
    "        tauc = roc_auc_score(labels[test_mask], probs[test_mask][:, 1].detach().numpy())\n",
    "\n",
    "        if best_f1 < f1:\n",
    "            best_f1 = f1\n",
    "            final_trec = trec\n",
    "            final_tpre = tpre\n",
    "            final_tmf1 = tmf1\n",
    "            final_tauc = tauc\n",
    "        print('Epoch {}, loss: {:.4f}, val mf1: {:.4f}, (best {:.4f})'.format(e, loss, f1, best_f1))\n",
    "\n",
    "    time_end = time.time()\n",
    "    print('time cost: ', time_end - time_start, 's')\n",
    "    print('Test: REC {:.2f} PRE {:.2f} MF1 {:.2f} AUC {:.2f}'.format(final_trec*100,\n",
    "                                                                     final_tpre*100, final_tmf1*100, final_tauc*100))\n",
    "    return final_tmf1, final_tauc\n",
    "\n",
    "\n",
    "# threshold adjusting for best macro f1\n",
    "def get_best_f1(labels, probs):\n",
    "    best_f1, best_thre = 0, 0\n",
    "    for thres in np.linspace(0.05, 0.95, 19):\n",
    "        #构建一个与labels同维度的数组,并初始化所有变量为零\n",
    "        preds = np.zeros_like(labels)\n",
    "        preds[probs[:,1] > thres] = 1\n",
    "        #average='binary'：计算二分类问题中的 F1 分数（默认值）。\n",
    "        #average='micro'：对所有类别的真实和预测样本进行汇总，然后计算 F1 分数。\n",
    "        #average='macro'：计算每个类别的 F1 分数，然后取平均值。\n",
    "        #average=None：返回每个类别的 F1 分数。\n",
    "        # F1_score 详细原理间“备份”\n",
    "        mf1 = f1_score(labels, preds, average='macro')\n",
    "        if mf1 > best_f1:\n",
    "            best_f1 = mf1\n",
    "            best_thre = thres\n",
    "    return best_f1, best_thre\n"
   ]
  },
  {
   "cell_type": "code",
   "execution_count": 5,
   "id": "28cdf3a6",
   "metadata": {},
   "outputs": [
    {
     "name": "stdout",
     "output_type": "stream",
     "text": [
      "Namespace(dataset='amazon', train_ratio=0.01, hid_dim=64, homo=0, epoch=100, run=1, k=3)\n"
     ]
    },
    {
     "ename": "AttributeError",
     "evalue": "'Namespace' object has no attribute 'order'",
     "output_type": "error",
     "traceback": [
      "\u001b[1;31m---------------------------------------------------------------------------\u001b[0m",
      "\u001b[1;31mAttributeError\u001b[0m                            Traceback (most recent call last)",
      "Cell \u001b[1;32mIn[5], line 16\u001b[0m\n\u001b[0;32m     14\u001b[0m dataset_name \u001b[38;5;241m=\u001b[39m args\u001b[38;5;241m.\u001b[39mdataset\n\u001b[0;32m     15\u001b[0m homo \u001b[38;5;241m=\u001b[39m args\u001b[38;5;241m.\u001b[39mhomo\n\u001b[1;32m---> 16\u001b[0m order \u001b[38;5;241m=\u001b[39m \u001b[43margs\u001b[49m\u001b[38;5;241;43m.\u001b[39;49m\u001b[43morder\u001b[49m\n\u001b[0;32m     17\u001b[0m k \u001b[38;5;241m=\u001b[39m args\u001b[38;5;241m.\u001b[39mk\n\u001b[0;32m     18\u001b[0m h_feats \u001b[38;5;241m=\u001b[39m args\u001b[38;5;241m.\u001b[39mhid_dim\n",
      "\u001b[1;31mAttributeError\u001b[0m: 'Namespace' object has no attribute 'order'"
     ]
    }
   ],
   "source": [
    "parser = argparse.ArgumentParser(description='ChebConvGAD')\n",
    "parser.add_argument(\"--dataset\", type=str, default=\"amazon\",\n",
    "                        help=\"Dataset for this model (yelp/amazon/tfinance/tsocial)\")\n",
    "parser.add_argument(\"--train_ratio\", type=float, default=0.01, help=\"Training ratio\")\n",
    "parser.add_argument(\"--hid_dim\", type=int, default=64, help=\"Hidden layer dimension\")\n",
    "parser.add_argument(\"--homo\", type=int, default=0, help=\"1 for ChebConvGAD(Homo) and 0 for ChebConvGAD(Hetero)\")\n",
    "parser.add_argument(\"--epoch\", type=int, default=100, help=\"The max number of epochs\")\n",
    "parser.add_argument(\"--run\", type=int, default=1, help=\"Running times\")\n",
    "parser.add_argument(\"--k\", type=int, default=3, help=\"k in ChebConv\")\n",
    "\n",
    "\n",
    "args = parser.parse_args(args = [])\n",
    "print(args)\n",
    "dataset_name = args.dataset\n",
    "homo = args.homo\n",
    "k = args.k\n",
    "h_feats = args.hid_dim\n",
    "graph = Dataset(dataset_name, homo).graph\n",
    "#edge_index = Dataset(dataset_name, homo).edge_index"
   ]
  },
  {
   "cell_type": "code",
   "execution_count": 6,
   "id": "f062fd51",
   "metadata": {},
   "outputs": [],
   "source": [
    "## cora : data.edge_index\n",
    "#tensor([[   0,    0,    0,  ..., 2707, 2707, 2707],\n",
    "#        [ 633, 1862, 2582,  ...,  598, 1473, 2706]])"
   ]
  },
  {
   "cell_type": "code",
   "execution_count": 5,
   "id": "14b5cc7c",
   "metadata": {},
   "outputs": [
    {
     "name": "stdout",
     "output_type": "stream",
     "text": [
      "train/dev/test samples:  86 2822 5731\n",
      "cross entropy weight:  9.75\n",
      "Epoch 0, loss: 2.3566, val mf1: 0.3629, (best 0.3629)\n",
      "Epoch 1, loss: 4.1712, val mf1: 0.5645, (best 0.5645)\n",
      "Epoch 2, loss: 1.1020, val mf1: 0.4675, (best 0.5645)\n",
      "Epoch 3, loss: 0.6709, val mf1: 0.5468, (best 0.5645)\n",
      "Epoch 4, loss: 0.6301, val mf1: 0.5770, (best 0.5770)\n",
      "Epoch 5, loss: 0.5934, val mf1: 0.6036, (best 0.6036)\n",
      "Epoch 6, loss: 0.5525, val mf1: 0.6759, (best 0.6759)\n",
      "Epoch 7, loss: 0.5065, val mf1: 0.6496, (best 0.6759)\n",
      "Epoch 8, loss: 0.5468, val mf1: 0.6865, (best 0.6865)\n",
      "Epoch 9, loss: 0.4676, val mf1: 0.6430, (best 0.6865)\n",
      "Epoch 10, loss: 0.4032, val mf1: 0.7041, (best 0.7041)\n",
      "Epoch 11, loss: 0.3421, val mf1: 0.7648, (best 0.7648)\n",
      "Epoch 12, loss: 0.3270, val mf1: 0.8258, (best 0.8258)\n",
      "Epoch 13, loss: 0.3067, val mf1: 0.8585, (best 0.8585)\n",
      "Epoch 14, loss: 0.2490, val mf1: 0.8611, (best 0.8611)\n",
      "Epoch 15, loss: 0.2324, val mf1: 0.8240, (best 0.8611)\n",
      "Epoch 16, loss: 0.2319, val mf1: 0.7975, (best 0.8611)\n",
      "Epoch 17, loss: 0.1895, val mf1: 0.7967, (best 0.8611)\n",
      "Epoch 18, loss: 0.1721, val mf1: 0.7908, (best 0.8611)\n",
      "Epoch 19, loss: 0.1463, val mf1: 0.7832, (best 0.8611)\n",
      "Epoch 20, loss: 0.1304, val mf1: 0.7670, (best 0.8611)\n",
      "Epoch 21, loss: 0.1108, val mf1: 0.7573, (best 0.8611)\n",
      "Epoch 22, loss: 0.0937, val mf1: 0.7573, (best 0.8611)\n",
      "Epoch 23, loss: 0.0865, val mf1: 0.7315, (best 0.8611)\n",
      "Epoch 24, loss: 0.0626, val mf1: 0.7386, (best 0.8611)\n",
      "Epoch 25, loss: 0.0515, val mf1: 0.7293, (best 0.8611)\n",
      "Epoch 26, loss: 0.0366, val mf1: 0.7420, (best 0.8611)\n",
      "Epoch 27, loss: 0.0375, val mf1: 0.7310, (best 0.8611)\n",
      "Epoch 28, loss: 0.0177, val mf1: 0.7509, (best 0.8611)\n",
      "Epoch 29, loss: 0.0104, val mf1: 0.7742, (best 0.8611)\n",
      "Epoch 30, loss: 0.0062, val mf1: 0.8020, (best 0.8611)\n",
      "Epoch 31, loss: 0.0898, val mf1: 0.7952, (best 0.8611)\n",
      "Epoch 32, loss: 0.3573, val mf1: 0.7625, (best 0.8611)\n",
      "Epoch 33, loss: 0.1954, val mf1: 0.7648, (best 0.8611)\n",
      "Epoch 34, loss: 0.1217, val mf1: 0.8176, (best 0.8611)\n",
      "Epoch 35, loss: 0.2270, val mf1: 0.8570, (best 0.8611)\n",
      "Epoch 36, loss: 0.1588, val mf1: 0.8556, (best 0.8611)\n",
      "Epoch 37, loss: 0.0673, val mf1: 0.8533, (best 0.8611)\n",
      "Epoch 38, loss: 0.0599, val mf1: 0.8355, (best 0.8611)\n",
      "Epoch 39, loss: 0.2110, val mf1: 0.8374, (best 0.8611)\n",
      "Epoch 40, loss: 0.3374, val mf1: 0.7423, (best 0.8611)\n",
      "Epoch 41, loss: 0.0972, val mf1: 0.8407, (best 0.8611)\n",
      "Epoch 42, loss: 0.1544, val mf1: 0.8644, (best 0.8644)\n",
      "Epoch 43, loss: 0.0690, val mf1: 0.8543, (best 0.8644)\n",
      "Epoch 44, loss: 0.0301, val mf1: 0.8135, (best 0.8644)\n",
      "Epoch 45, loss: 0.0531, val mf1: 0.7671, (best 0.8644)\n",
      "Epoch 46, loss: 0.0538, val mf1: 0.7461, (best 0.8644)\n",
      "Epoch 47, loss: 0.0194, val mf1: 0.7542, (best 0.8644)\n",
      "Epoch 48, loss: 0.1060, val mf1: 0.7286, (best 0.8644)\n",
      "Epoch 49, loss: 0.0176, val mf1: 0.7900, (best 0.8644)\n",
      "Epoch 50, loss: 0.2089, val mf1: 0.6990, (best 0.8644)\n",
      "Epoch 51, loss: 0.1894, val mf1: 0.7870, (best 0.8644)\n",
      "Epoch 52, loss: 0.1486, val mf1: 0.8257, (best 0.8644)\n",
      "Epoch 53, loss: 0.1967, val mf1: 0.8446, (best 0.8644)\n",
      "Epoch 54, loss: 0.0859, val mf1: 0.7972, (best 0.8644)\n",
      "Epoch 55, loss: 0.2762, val mf1: 0.7468, (best 0.8644)\n",
      "Epoch 56, loss: 0.2484, val mf1: 0.7426, (best 0.8644)\n",
      "Epoch 57, loss: 0.0582, val mf1: 0.7844, (best 0.8644)\n",
      "Epoch 58, loss: 0.0764, val mf1: 0.8226, (best 0.8644)\n",
      "Epoch 59, loss: 0.1396, val mf1: 0.8477, (best 0.8644)\n",
      "Epoch 60, loss: 0.0793, val mf1: 0.8487, (best 0.8644)\n",
      "Epoch 61, loss: 0.0290, val mf1: 0.8414, (best 0.8644)\n",
      "Epoch 62, loss: 0.0285, val mf1: 0.8293, (best 0.8644)\n",
      "Epoch 63, loss: 0.0553, val mf1: 0.8135, (best 0.8644)\n",
      "Epoch 64, loss: 0.0613, val mf1: 0.8020, (best 0.8644)\n",
      "Epoch 65, loss: 0.0354, val mf1: 0.8020, (best 0.8644)\n",
      "Epoch 66, loss: 0.0140, val mf1: 0.8098, (best 0.8644)\n",
      "Epoch 67, loss: 0.0089, val mf1: 0.8131, (best 0.8644)\n",
      "Epoch 68, loss: 0.0118, val mf1: 0.8206, (best 0.8644)\n",
      "Epoch 69, loss: 0.0191, val mf1: 0.8283, (best 0.8644)\n",
      "Epoch 70, loss: 0.0205, val mf1: 0.8283, (best 0.8644)\n",
      "Epoch 71, loss: 0.0130, val mf1: 0.8304, (best 0.8644)\n",
      "Epoch 72, loss: 0.0058, val mf1: 0.8272, (best 0.8644)\n",
      "Epoch 73, loss: 0.0030, val mf1: 0.8224, (best 0.8644)\n",
      "Epoch 74, loss: 0.0020, val mf1: 0.8198, (best 0.8644)\n",
      "Epoch 75, loss: 0.0017, val mf1: 0.8210, (best 0.8644)\n",
      "Epoch 76, loss: 0.0016, val mf1: 0.8203, (best 0.8644)\n",
      "Epoch 77, loss: 0.0017, val mf1: 0.8156, (best 0.8644)\n",
      "Epoch 78, loss: 0.0017, val mf1: 0.8116, (best 0.8644)\n",
      "Epoch 79, loss: 0.0016, val mf1: 0.8103, (best 0.8644)\n",
      "Epoch 80, loss: 0.0016, val mf1: 0.8078, (best 0.8644)\n",
      "Epoch 81, loss: 0.0015, val mf1: 0.8084, (best 0.8644)\n",
      "Epoch 82, loss: 0.0013, val mf1: 0.8118, (best 0.8644)\n",
      "Epoch 83, loss: 0.0011, val mf1: 0.8159, (best 0.8644)\n",
      "Epoch 84, loss: 0.0009, val mf1: 0.8186, (best 0.8644)\n",
      "Epoch 85, loss: 0.0007, val mf1: 0.8193, (best 0.8644)\n",
      "Epoch 86, loss: 0.0006, val mf1: 0.8243, (best 0.8644)\n",
      "Epoch 87, loss: 0.0004, val mf1: 0.8257, (best 0.8644)\n",
      "Epoch 88, loss: 0.0003, val mf1: 0.8286, (best 0.8644)\n",
      "Epoch 89, loss: 0.0003, val mf1: 0.8308, (best 0.8644)\n",
      "Epoch 90, loss: 0.0002, val mf1: 0.8330, (best 0.8644)\n",
      "Epoch 91, loss: 0.0002, val mf1: 0.8345, (best 0.8644)\n",
      "Epoch 92, loss: 0.0001, val mf1: 0.8367, (best 0.8644)\n",
      "Epoch 93, loss: 0.0001, val mf1: 0.8367, (best 0.8644)\n",
      "Epoch 94, loss: 0.0001, val mf1: 0.8377, (best 0.8644)\n",
      "Epoch 95, loss: 0.0001, val mf1: 0.8415, (best 0.8644)\n",
      "Epoch 96, loss: 0.0001, val mf1: 0.8423, (best 0.8644)\n",
      "Epoch 97, loss: 0.0001, val mf1: 0.8438, (best 0.8644)\n",
      "Epoch 98, loss: 0.0001, val mf1: 0.8446, (best 0.8644)\n",
      "Epoch 99, loss: 0.0001, val mf1: 0.8441, (best 0.8644)\n",
      "time cost:  1047.764722108841 s\n",
      "Test: REC 73.03 PRE 72.10 MF1 84.83 AUC 87.86\n",
      "MF1-mean: 84.83, MF1-std: 0.00, AUC-mean: 87.86, AUC-std: 0.00\n"
     ]
    }
   ],
   "source": [
    "in_feats = graph.ndata['feature'].shape[1]\n",
    "num_classes = 2\n",
    "\n",
    "if args.run == 0:\n",
    "    if homo:\n",
    "        print(\"hello\")\n",
    "        model = ChebConvGAD(in_feats, h_feats, num_classes, graph,k = k)\n",
    "    else:\n",
    "        model = ChebConvGAD_Hetero(in_feats, h_feats, num_classes,k = k)\n",
    "        train(model, graph, args)\n",
    "\n",
    "else:\n",
    "    final_mf1s, final_aucs = [], []\n",
    "    for tt in range(args.run):\n",
    "        if homo:\n",
    "            #in_feats 特征点维度；h_feats：隐层维度；num_classes：节点分类数（nomal，anomaly）\n",
    "            model = ChebConvGAD(in_feats, h_feats, num_classes, graph,k = k)\n",
    "        else:\n",
    "            model = ChebConvGAD_Hetero(in_feats, h_feats, num_classes, graph, k = k)\n",
    "        mf1, auc = train(model, graph, args)\n",
    "        final_mf1s.append(mf1)\n",
    "        final_aucs.append(auc)\n",
    "    final_mf1s = np.array(final_mf1s)\n",
    "    final_aucs = np.array(final_aucs)\n",
    "    # np.std :计算全局标准差\n",
    "    print('MF1-mean: {:.2f}, MF1-std: {:.2f}, AUC-mean: {:.2f}, AUC-std: {:.2f}'.format(100 * np.mean(final_mf1s),\n",
    "                                                                                            100 * np.std(final_mf1s),\n",
    "                                                               100 * np.mean(final_aucs), 100 * np.std(final_aucs)))"
   ]
  },
  {
   "cell_type": "markdown",
   "id": "e7b61665",
   "metadata": {},
   "source": [
    "##  Test\n",
    "### 1. 按种类获取边（边存放在元组中，需要将元组转化为Tensor， 需要按边的种类，分别转化，不能一次将存放在元组中的边，转化为teosor）\n",
    "### 2. ChebConv 模型需要边的输入类型为 二维Tensor"
   ]
  },
  {
   "cell_type": "code",
   "execution_count": null,
   "id": "35fb2997",
   "metadata": {},
   "outputs": [],
   "source": [
    "from dgl.data import FraudYelpDataset, FraudAmazonDataset\n",
    "dataset = FraudAmazonDataset()\n",
    "graph = dataset[0]\n",
    "graph"
   ]
  },
  {
   "cell_type": "code",
   "execution_count": null,
   "id": "2d131ce4",
   "metadata": {},
   "outputs": [],
   "source": [
    "graph = dgl.to_homogeneous(dataset[0], ndata=['feature', 'label', 'train_mask', 'val_mask', 'test_mask'])\n",
    "graph = dgl.add_self_loop(graph)\n"
   ]
  },
  {
   "cell_type": "code",
   "execution_count": null,
   "id": "4c5451c5",
   "metadata": {},
   "outputs": [],
   "source": [
    "graph.local_scope()"
   ]
  },
  {
   "cell_type": "code",
   "execution_count": null,
   "id": "e1d2f7a1",
   "metadata": {},
   "outputs": [],
   "source": [
    "from dgl.data import FraudYelpDataset, FraudAmazonDataset\n",
    "dataset = FraudYelpDataset()\n",
    "graph = dataset[0]\n",
    "graph\n"
   ]
  },
  {
   "cell_type": "code",
   "execution_count": null,
   "id": "33c6121a",
   "metadata": {},
   "outputs": [],
   "source": [
    "for relation in graph.canonical_etypes:\n",
    "    print(relation)"
   ]
  },
  {
   "cell_type": "code",
   "execution_count": null,
   "id": "9c5a3010",
   "metadata": {},
   "outputs": [],
   "source": [
    "edges_uvu = graph[relation].edges()\n",
    "edge_index = torch.stack(edges_uvu)"
   ]
  },
  {
   "cell_type": "code",
   "execution_count": null,
   "id": "5023e692",
   "metadata": {},
   "outputs": [],
   "source": [
    "#三类边\n",
    "edges_upu = graph[graph.canonical_etypes[0]].edges()\n",
    "edge_index_upu = torch.stack(edges_upu)\n",
    "edges_usu = graph[graph.canonical_etypes[1]].edges()\n",
    "edge_index_usu = torch.stack(edges_usu)\n",
    "edges_uvu = graph[graph.canonical_etypes[2]].edges()\n",
    "edge_index_uvu = torch.stack(edges_uvu)\n",
    "\n",
    "\n",
    "# 合并连个Tensor，dim=1 按列合并\n",
    "combined_tensor = torch.cat((edge_index_upu, edge_index_usu), dim=1)\n",
    "edge_index = torch.cat((combined_tensor, edge_index_uvu), dim=1)"
   ]
  },
  {
   "cell_type": "code",
   "execution_count": null,
   "id": "eb1c1a26",
   "metadata": {},
   "outputs": [],
   "source": [
    "print(\"edge_index_upu.shape:\",edge_index_upu.shape)\n",
    "print(\"edge_index_usu.shape:\",edge_index_usu.shape)\n",
    "print(\"edge_index_uvu.shape:\",edge_index_uvu.shape)\n",
    "print(\"edge_index.shape:\",edge_index.shape)"
   ]
  },
  {
   "cell_type": "code",
   "execution_count": null,
   "id": "092ad58f",
   "metadata": {},
   "outputs": [],
   "source": [
    "g1 = graph[graph.canonical_etypes[0]]"
   ]
  },
  {
   "cell_type": "code",
   "execution_count": null,
   "id": "5a0b3c5d",
   "metadata": {},
   "outputs": [],
   "source": [
    "from dgl.data import FraudYelpDataset, FraudAmazonDataset\n",
    "dataset = FraudAmazonDataset()\n",
    "graph = dataset[0]"
   ]
  },
  {
   "cell_type": "code",
   "execution_count": null,
   "id": "115c514b",
   "metadata": {},
   "outputs": [],
   "source": [
    "g_upu = graph[graph.canonical_etypes[0]]"
   ]
  },
  {
   "cell_type": "code",
   "execution_count": null,
   "id": "7849077a",
   "metadata": {},
   "outputs": [],
   "source": [
    "g_upu.ndata['label'].shape"
   ]
  },
  {
   "cell_type": "code",
   "execution_count": null,
   "id": "f2452df5",
   "metadata": {},
   "outputs": [],
   "source": [
    "\n",
    "if homo:\n",
    "    graph = dgl.to_homogeneous(dataset[0], ndata=['feature', 'label', 'train_mask', 'val_mask', 'test_mask'])\n",
    "  \n",
    "    graph = dgl.add_self_loop(graph)\n",
    "                \n",
    "    #三类边\n",
    "    edges_upu = graph[graph.canonical_etypes[0]].edges()\n",
    "    edge_index_upu = torch.stack(edges_upu)\n",
    "    edges_usu = graph[graph.canonical_etypes[1]].edges()\n",
    "    edge_index_usu = torch.stack(edges_usu)\n",
    "    edges_uvu = graph[graph.canonical_etypes[2]].edges()\n",
    "    edge_index_uvu = torch.stack(edges_uvu)\n",
    "                \n",
    "    # 合并连个Tensor，dim=1 按列合并\n",
    "    combined_tensor = torch.cat((edge_index_upu, edge_index_usu), dim=1)\n",
    "    edge_index = torch.cat((combined_tensor, edge_index_uvu), dim=1)"
   ]
  },
  {
   "cell_type": "code",
   "execution_count": null,
   "id": "68e7d650",
   "metadata": {},
   "outputs": [],
   "source": [
    "print(graph.canonical_etypes)\n",
    "edge_index = graph.edges()\n",
    "edge_index = torch.stack(edge_index)"
   ]
  },
  {
   "cell_type": "markdown",
   "id": "92770cce",
   "metadata": {},
   "source": [
    "### 激活函数方面：nn.LeakyReLU(): LeakyReLU 是 ReLU 的一个变种，它允许负值通过一个小的斜率而不是将它们直接设为零。这个斜率是一个超参数，通常设置为一个小的正数，比如 0.01。这样做的目的是解决“ReLU 死亡神经元”问题，即某些神经元在训练过程中可能永远不会被激活，从而停止更新权重。LeakyReLU 在这种情况下可以提供更好的梯度流动，帮助网络更快地收敛。"
   ]
  },
  {
   "cell_type": "code",
   "execution_count": null,
   "id": "066abeb1",
   "metadata": {},
   "outputs": [],
   "source": []
  }
 ],
 "metadata": {
  "kernelspec": {
   "display_name": "Python 3 (ipykernel)",
   "language": "python",
   "name": "python3"
  },
  "language_info": {
   "codemirror_mode": {
    "name": "ipython",
    "version": 3
   },
   "file_extension": ".py",
   "mimetype": "text/x-python",
   "name": "python",
   "nbconvert_exporter": "python",
   "pygments_lexer": "ipython3",
   "version": "3.10.9"
  }
 },
 "nbformat": 4,
 "nbformat_minor": 5
}
