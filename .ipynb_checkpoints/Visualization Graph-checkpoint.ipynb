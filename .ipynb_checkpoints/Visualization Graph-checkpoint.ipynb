{
 "cells": [
  {
   "cell_type": "markdown",
   "id": "0fbdaffe",
   "metadata": {},
   "source": [
    "# 1. 可视化Amazon中的g_upu"
   ]
  },
  {
   "cell_type": "code",
   "execution_count": 1,
   "id": "df785761",
   "metadata": {},
   "outputs": [
    {
     "name": "stdout",
     "output_type": "stream",
     "text": [
      "Done loading data from cached files.\n"
     ]
    },
    {
     "data": {
      "text/plain": [
       "Graph(num_nodes={'user': 11944},\n",
       "      num_edges={('user', 'net_upu', 'user'): 351216, ('user', 'net_usu', 'user'): 7132958, ('user', 'net_uvu', 'user'): 2073474},\n",
       "      metagraph=[('user', 'user', 'net_upu'), ('user', 'user', 'net_usu'), ('user', 'user', 'net_uvu')])"
      ]
     },
     "execution_count": 1,
     "metadata": {},
     "output_type": "execute_result"
    }
   ],
   "source": [
    "import dgl\n",
    "import networkx as nx\n",
    "import matplotlib.pyplot as plt\n",
    "import torch\n",
    "from dgl.data import FraudYelpDataset, FraudAmazonDataset\n",
    "dataset = FraudAmazonDataset()\n",
    "graph = dataset[0]\n",
    "graph\n"
   ]
  },
  {
   "cell_type": "code",
   "execution_count": 2,
   "id": "d04aef02",
   "metadata": {},
   "outputs": [],
   "source": [
    "#三类边\n",
    "edges_upu = graph[graph.canonical_etypes[0]].edges()\n",
    "edge_index_upu = torch.stack(edges_upu)\n",
    "edges_usu = graph[graph.canonical_etypes[1]].edges()\n",
    "edge_index_usu = torch.stack(edges_usu)\n",
    "edges_uvu = graph[graph.canonical_etypes[2]].edges()\n",
    "edge_index_uvu = torch.stack(edges_uvu)\n",
    "\n",
    "\n",
    "# 合并连个Tensor，dim=1 按列合并\n",
    "combined_tensor = torch.cat((edge_index_upu, edge_index_usu), dim=1)\n",
    "edge_index = torch.cat((combined_tensor, edge_index_uvu), dim=1)"
   ]
  },
  {
   "cell_type": "code",
   "execution_count": null,
   "id": "7dd2b9e5",
   "metadata": {},
   "outputs": [],
   "source": [
    "# 将DGL图转换为NetworkX图\n",
    "g_upu = graph[graph.canonical_etypes[0]]\n",
    "nx_g = g_upu.to_networkx()\n",
    "\n",
    "# 设置图形尺寸\n",
    "plt.figure(figsize=(12, 12))"
   ]
  },
  {
   "cell_type": "code",
   "execution_count": null,
   "id": "209b983f",
   "metadata": {},
   "outputs": [],
   "source": [
    "# 提取节点标签信息\n",
    "node_labels = {node: label for node, label in zip(nx_g.nodes(), g_upu.ndata['label'])}\n",
    "\n",
    "# 定义节点颜色映射\n",
    "color_map = {0: 'red', 1: 'blue'}"
   ]
  },
  {
   "cell_type": "code",
   "execution_count": null,
   "id": "dc458604",
   "metadata": {},
   "outputs": [],
   "source": [
    "\n",
    "# 根据节点标签设置节点颜色\n",
    "node_colors = [color_map[label.item()] for label in g_upu.ndata['label']]\n",
    "\n",
    "# 使用spring布局算法设置图的布局\n",
    "#pos = nx.spring_layout(nx_g)\n",
    "pos = nx.spectral_layout(nx_g)\n",
    "#pos = nx.random_layout(nx_g)\n",
    "\n",
    "# 绘制NetworkX图，并设置节点颜色\n",
    "nx.draw(nx_g, pos, node_color=node_colors,node_size= 30)\n",
    "plt.show()\n"
   ]
  },
  {
   "cell_type": "markdown",
   "id": "6685effc",
   "metadata": {},
   "source": [
    "# 2. 可视化Amazon中的g_upu"
   ]
  },
  {
   "cell_type": "code",
   "execution_count": null,
   "id": "8f909a6a",
   "metadata": {},
   "outputs": [],
   "source": [
    "import dgl\n",
    "import networkx as nx\n",
    "import matplotlib.pyplot as plt\n",
    "import torch\n",
    "from dgl.data import FraudYelpDataset, FraudAmazonDataset\n",
    "dataset = FraudYelpDataset()\n",
    "graph = dataset[0]\n",
    "graph\n",
    "\n"
   ]
  },
  {
   "cell_type": "code",
   "execution_count": null,
   "id": "128a9ac4",
   "metadata": {},
   "outputs": [],
   "source": [
    "# 将DGL图转换为NetworkX图\n",
    "g_rur = graph[graph.canonical_etypes[2]]\n",
    "nx_g = g_upu.to_networkx()\n",
    "\n",
    "# 设置图形尺寸\n",
    "plt.figure(figsize=(12, 12))\n",
    "\n",
    "# 提取节点标签信息\n",
    "node_labels = {node: label for node, label in zip(nx_g.nodes(), g_upu.ndata['label'])}\n",
    "\n",
    "# 定义节点颜色映射\n",
    "color_map = {0: 'red', 1: 'blue'}\n",
    "\n",
    " 根据节点标签设置节点颜色\n",
    "node_colors = [color_map[label.item()] for label in g_upu.ndata['label']]\n",
    "\n",
    "# 使用spring布局算法设置图的布局\n",
    "#pos = nx.spring_layout(nx_g)\n",
    "#pos = nx.spectral_layout(nx_g)\n",
    "pos = nx.random_layout(nx_g)\n",
    "\n",
    "# 绘制NetworkX图，并设置节点颜色\n",
    "nx.draw(nx_g, pos, node_color=node_colors,node_size= 30)\n",
    "plt.show()\n"
   ]
  }
 ],
 "metadata": {
  "kernelspec": {
   "display_name": "Python 3 (ipykernel)",
   "language": "python",
   "name": "python3"
  },
  "language_info": {
   "codemirror_mode": {
    "name": "ipython",
    "version": 3
   },
   "file_extension": ".py",
   "mimetype": "text/x-python",
   "name": "python",
   "nbconvert_exporter": "python",
   "pygments_lexer": "ipython3",
   "version": "3.10.9"
  }
 },
 "nbformat": 4,
 "nbformat_minor": 5
}
