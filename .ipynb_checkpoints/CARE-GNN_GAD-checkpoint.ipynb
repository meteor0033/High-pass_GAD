{
 "cells": [
  {
   "cell_type": "code",
   "execution_count": 1,
   "id": "e81bf56d",
   "metadata": {},
   "outputs": [],
   "source": [
    "import dgl\n",
    "import torch\n",
    "import torch.nn.functional as F\n",
    "# 其中包括激活函数, 损失函数, 池化函数 ,通过 F.xxx() 的形式，可以方便地调用 torch.nn.functional 模块中的各种函数\n",
    "import numpy\n",
    "import argparse\n",
    "import time\n",
    "from dataset import Dataset\n",
    "from sklearn.metrics import f1_score, accuracy_score, recall_score, roc_auc_score, precision_score, confusion_matrix\n",
    "from CARE-GNN_GAD import *\n",
    "from sklearn.model_selection import train_test_split"
   ]
  },
  {
   "cell_type": "code",
   "execution_count": 2,
   "id": "95601549",
   "metadata": {},
   "outputs": [],
   "source": [
    "def train(model, g, args):\n",
    "    features = g.ndata['feature']\n",
    "    labels = g.ndata['label']\n",
    "    index = list(range(len(labels)))\n",
    "    if dataset_name == 'amazon':\n",
    "        index = list(range(3305, len(labels)))\n",
    "\n",
    "    idx_train, idx_rest, y_train, y_rest = train_test_split(index, labels[index], stratify=labels[index],\n",
    "                                                            train_size=args.train_ratio,\n",
    "                                                            random_state=2, shuffle=True)\n",
    "    idx_valid, idx_test, y_valid, y_test = train_test_split(idx_rest, y_rest, stratify=y_rest,\n",
    "                                                            test_size=0.67,\n",
    "                                                            random_state=2, shuffle=True)\n",
    "    train_mask = torch.zeros([len(labels)]).bool()\n",
    "    val_mask = torch.zeros([len(labels)]).bool()\n",
    "    test_mask = torch.zeros([len(labels)]).bool()\n",
    "\n",
    "    train_mask[idx_train] = 1\n",
    "    val_mask[idx_valid] = 1\n",
    "    test_mask[idx_test] = 1\n",
    "    print('train/dev/test samples: ', train_mask.sum().item(), val_mask.sum().item(), test_mask.sum().item())\n",
    "    optimizer = torch.optim.Adam(model.parameters(), lr=0.01)\n",
    "    best_f1, final_tf1, final_trec, final_tpre, final_tmf1, final_tauc = 0., 0., 0., 0., 0., 0.\n",
    "\n",
    "    weight = (1-labels[train_mask]).sum().item() / labels[train_mask].sum().item()\n",
    "    print('cross entropy weight: ', weight)\n",
    "    time_start = time.time()\n",
    "    for e in range(args.epoch):\n",
    "        # 训练\n",
    "        model.train()\n",
    "        # 调用模型中的forward函数\n",
    "        logits = model(features)\n",
    "        loss = F.cross_entropy(logits[train_mask], labels[train_mask], weight=torch.tensor([1., weight]))\n",
    "        optimizer.zero_grad()\n",
    "        loss.backward()\n",
    "        optimizer.step()\n",
    "        #验证\n",
    "        model.eval()\n",
    "        probs = logits.softmax(1)\n",
    "        f1, thres = get_best_f1(labels[val_mask], probs[val_mask])\n",
    "        preds = numpy.zeros_like(labels)\n",
    "        preds[probs[:, 1] > thres] = 1\n",
    "        trec = recall_score(labels[test_mask], preds[test_mask])\n",
    "        tpre = precision_score(labels[test_mask], preds[test_mask])\n",
    "        tmf1 = f1_score(labels[test_mask], preds[test_mask], average='macro')\n",
    "        tauc = roc_auc_score(labels[test_mask], probs[test_mask][:, 1].detach().numpy())\n",
    "\n",
    "        if best_f1 < f1:\n",
    "            best_f1 = f1\n",
    "            final_trec = trec\n",
    "            final_tpre = tpre\n",
    "            final_tmf1 = tmf1\n",
    "            final_tauc = tauc\n",
    "        print('Epoch {}, loss: {:.4f}, val mf1: {:.4f}, (best {:.4f})'.format(e, loss, f1, best_f1))\n",
    "\n",
    "    time_end = time.time()\n",
    "    print('time cost: ', time_end - time_start, 's')\n",
    "    print('Test: REC {:.2f} PRE {:.2f} MF1 {:.2f} AUC {:.2f}'.format(final_trec*100,\n",
    "                                                                     final_tpre*100, final_tmf1*100, final_tauc*100))\n",
    "    return final_tmf1, final_tauc\n",
    "\n",
    "\n",
    "# threshold adjusting for best macro f1\n",
    "def get_best_f1(labels, probs):\n",
    "    best_f1, best_thre = 0, 0\n",
    "    for thres in np.linspace(0.05, 0.95, 19):\n",
    "        #构建一个与labels同维度的数组,并初始化所有变量为零\n",
    "        preds = np.zeros_like(labels)\n",
    "        preds[probs[:,1] > thres] = 1\n",
    "        #average='binary'：计算二分类问题中的 F1 分数（默认值）。\n",
    "        #average='micro'：对所有类别的真实和预测样本进行汇总，然后计算 F1 分数。\n",
    "        #average='macro'：计算每个类别的 F1 分数，然后取平均值。\n",
    "        #average=None：返回每个类别的 F1 分数。\n",
    "        # F1_score 详细原理间“备份”\n",
    "        mf1 = f1_score(labels, preds, average='macro')\n",
    "        if mf1 > best_f1:\n",
    "            best_f1 = mf1\n",
    "            best_thre = thres\n",
    "    return best_f1, best_thre\n"
   ]
  },
  {
   "cell_type": "code",
   "execution_count": 3,
   "id": "28cdf3a6",
   "metadata": {},
   "outputs": [
    {
     "name": "stdout",
     "output_type": "stream",
     "text": [
      "Namespace(dataset='tsocial', train_ratio=0.1, hid_dim=64, order=2, homo=1, epoch=100, run=1, k=3)\n",
      "Graph(num_nodes=5781065, num_edges=146211016,\n",
      "      ndata_schemes={'feature': Scheme(shape=(10,), dtype=torch.float32), 'label': Scheme(shape=(), dtype=torch.int64), '_ID': Scheme(shape=(), dtype=torch.int64)}\n",
      "      edata_schemes={'_ID': Scheme(shape=(), dtype=torch.int64)})\n"
     ]
    }
   ],
   "source": [
    "parser = argparse.ArgumentParser(description='GCN_GAD')\n",
    "parser.add_argument(\"--dataset\", type=str, default=\"tsocial\",\n",
    "                        help=\"Dataset for this model (yelp/amazon/tfinance/tsocial)\")\n",
    "parser.add_argument(\"--train_ratio\", type=float, default=0.10, help=\"Training ratio\")\n",
    "parser.add_argument(\"--hid_dim\", type=int, default=64, help=\"Hidden layer dimension\")\n",
    "# \"Order C in Beta Wavelet\"  P + q = C ：order.  Beta 分布的概率密度函数中的两个重要参数\n",
    "parser.add_argument(\"--order\", type=int, default=2, help=\"Order C in Beta Wavelet\")\n",
    "parser.add_argument(\"--homo\", type=int, default=1, help=\"1 for ChebConvGAD(Homo) and 0 for ChebConvGAD(Hetero)\")\n",
    "parser.add_argument(\"--epoch\", type=int, default=100, help=\"The max number of epochs\")\n",
    "parser.add_argument(\"--run\", type=int, default=1, help=\"Running times\")\n",
    "parser.add_argument(\"--k\", type=int, default=3, help=\"k in ChebConv\")\n",
    "\n",
    "\n",
    "args = parser.parse_args(args = [])\n",
    "print(args)\n",
    "dataset_name = args.dataset\n",
    "homo = args.homo\n",
    "order = args.order\n",
    "k = args.k\n",
    "h_feats = args.hid_dim\n",
    "graph = Dataset(dataset_name, homo).graph\n",
    "#edge_index = Dataset(dataset_name, homo).edge_index"
   ]
  },
  {
   "cell_type": "code",
   "execution_count": 4,
   "id": "f062fd51",
   "metadata": {},
   "outputs": [],
   "source": [
    "## cora : data.edge_index\n",
    "#tensor([[   0,    0,    0,  ..., 2707, 2707, 2707],\n",
    "#        [ 633, 1862, 2582,  ...,  598, 1473, 2706]])"
   ]
  },
  {
   "cell_type": "code",
   "execution_count": 5,
   "id": "14b5cc7c",
   "metadata": {},
   "outputs": [
    {
     "name": "stdout",
     "output_type": "stream",
     "text": [
      "train/dev/test samples:  578106 1716976 3485983\n",
      "cross entropy weight:  32.171103970621985\n",
      "Epoch 0, loss: 57.0060, val mf1: 0.0363, (best 0.0363)\n"
     ]
    },
    {
     "name": "stderr",
     "output_type": "stream",
     "text": [
      "D:\\anaconda3\\lib\\site-packages\\sklearn\\metrics\\_classification.py:1344: UndefinedMetricWarning: Precision is ill-defined and being set to 0.0 due to no predicted samples. Use `zero_division` parameter to control this behavior.\n",
      "  _warn_prf(average, modifier, msg_start, len(result))\n"
     ]
    },
    {
     "name": "stdout",
     "output_type": "stream",
     "text": [
      "Epoch 1, loss: 371.9587, val mf1: 0.4923, (best 0.4923)\n"
     ]
    },
    {
     "name": "stderr",
     "output_type": "stream",
     "text": [
      "D:\\anaconda3\\lib\\site-packages\\sklearn\\metrics\\_classification.py:1344: UndefinedMetricWarning: Precision is ill-defined and being set to 0.0 due to no predicted samples. Use `zero_division` parameter to control this behavior.\n",
      "  _warn_prf(average, modifier, msg_start, len(result))\n"
     ]
    },
    {
     "name": "stdout",
     "output_type": "stream",
     "text": [
      "Epoch 2, loss: 230.6268, val mf1: 0.4923, (best 0.4923)\n",
      "Epoch 3, loss: 67.9328, val mf1: 0.4923, (best 0.4923)\n",
      "Epoch 4, loss: 31.8760, val mf1: 0.0298, (best 0.4923)\n",
      "Epoch 5, loss: 37.1831, val mf1: 0.0380, (best 0.4923)\n",
      "Epoch 6, loss: 11.3641, val mf1: 0.2731, (best 0.4923)\n",
      "Epoch 7, loss: 47.6903, val mf1: 0.4925, (best 0.4925)\n",
      "Epoch 8, loss: 40.3346, val mf1: 0.4924, (best 0.4925)\n",
      "Epoch 9, loss: 10.5529, val mf1: 0.4787, (best 0.4925)\n",
      "Epoch 10, loss: 18.9498, val mf1: 0.1058, (best 0.4925)\n",
      "Epoch 11, loss: 28.2044, val mf1: 0.0573, (best 0.4925)\n",
      "Epoch 12, loss: 24.7106, val mf1: 0.0972, (best 0.4925)\n",
      "Epoch 13, loss: 16.0603, val mf1: 0.1889, (best 0.4925)\n",
      "Epoch 14, loss: 16.7869, val mf1: 0.4445, (best 0.4925)\n",
      "Epoch 15, loss: 14.4992, val mf1: 0.4908, (best 0.4925)\n",
      "Epoch 16, loss: 5.6323, val mf1: 0.3003, (best 0.4925)\n",
      "Epoch 17, loss: 6.3048, val mf1: 0.2144, (best 0.4925)\n",
      "Epoch 18, loss: 4.2826, val mf1: 0.2956, (best 0.4925)\n",
      "Epoch 19, loss: 4.3369, val mf1: 0.5018, (best 0.5018)\n",
      "Epoch 20, loss: 6.2592, val mf1: 0.5021, (best 0.5021)\n",
      "Epoch 21, loss: 4.7797, val mf1: 0.4826, (best 0.5021)\n",
      "Epoch 22, loss: 3.9760, val mf1: 0.4364, (best 0.5021)\n",
      "Epoch 23, loss: 4.8286, val mf1: 0.3601, (best 0.5021)\n",
      "Epoch 24, loss: 3.9616, val mf1: 0.3863, (best 0.5021)\n",
      "Epoch 25, loss: 2.4302, val mf1: 0.4756, (best 0.5021)\n",
      "Epoch 26, loss: 2.7778, val mf1: 0.5126, (best 0.5126)\n",
      "Epoch 27, loss: 2.7683, val mf1: 0.5218, (best 0.5218)\n",
      "Epoch 28, loss: 1.2805, val mf1: 0.5311, (best 0.5311)\n",
      "Epoch 29, loss: 1.8809, val mf1: 0.4236, (best 0.5311)\n",
      "Epoch 30, loss: 2.0793, val mf1: 0.3761, (best 0.5311)\n",
      "Epoch 31, loss: 1.2119, val mf1: 0.5423, (best 0.5423)\n",
      "Epoch 32, loss: 2.3509, val mf1: 0.5003, (best 0.5423)\n",
      "Epoch 33, loss: 1.2595, val mf1: 0.5289, (best 0.5423)\n",
      "Epoch 34, loss: 1.6175, val mf1: 0.4268, (best 0.5423)\n",
      "Epoch 35, loss: 1.7550, val mf1: 0.3945, (best 0.5423)\n",
      "Epoch 36, loss: 0.8816, val mf1: 0.5589, (best 0.5589)\n",
      "Epoch 37, loss: 1.7518, val mf1: 0.5204, (best 0.5589)\n",
      "Epoch 38, loss: 0.8540, val mf1: 0.5671, (best 0.5671)\n",
      "Epoch 39, loss: 1.3535, val mf1: 0.4725, (best 0.5671)\n",
      "Epoch 40, loss: 1.2071, val mf1: 0.4909, (best 0.5671)\n",
      "Epoch 41, loss: 0.8039, val mf1: 0.5926, (best 0.5926)\n",
      "Epoch 42, loss: 1.2790, val mf1: 0.5773, (best 0.5926)\n",
      "Epoch 43, loss: 0.7842, val mf1: 0.6011, (best 0.6011)\n",
      "Epoch 44, loss: 1.0213, val mf1: 0.5377, (best 0.6011)\n",
      "Epoch 45, loss: 0.9489, val mf1: 0.5482, (best 0.6011)\n",
      "Epoch 46, loss: 0.7051, val mf1: 0.5832, (best 0.6011)\n",
      "Epoch 47, loss: 0.9785, val mf1: 0.5681, (best 0.6011)\n",
      "Epoch 48, loss: 0.7191, val mf1: 0.5710, (best 0.6011)\n",
      "Epoch 49, loss: 0.8307, val mf1: 0.5467, (best 0.6011)\n",
      "Epoch 50, loss: 0.7451, val mf1: 0.5719, (best 0.6011)\n",
      "Epoch 51, loss: 0.6686, val mf1: 0.5919, (best 0.6011)\n",
      "Epoch 52, loss: 0.7880, val mf1: 0.5919, (best 0.6011)\n",
      "Epoch 53, loss: 0.6665, val mf1: 0.6029, (best 0.6029)\n",
      "Epoch 54, loss: 0.7229, val mf1: 0.5953, (best 0.6029)\n",
      "Epoch 55, loss: 0.6618, val mf1: 0.5994, (best 0.6029)\n",
      "Epoch 56, loss: 0.6154, val mf1: 0.5937, (best 0.6029)\n",
      "Epoch 57, loss: 0.6652, val mf1: 0.5851, (best 0.6029)\n",
      "Epoch 58, loss: 0.6093, val mf1: 0.5812, (best 0.6029)\n",
      "Epoch 59, loss: 0.6572, val mf1: 0.5780, (best 0.6029)\n",
      "Epoch 60, loss: 0.5652, val mf1: 0.6033, (best 0.6033)\n",
      "Epoch 61, loss: 0.6350, val mf1: 0.6125, (best 0.6125)\n",
      "Epoch 62, loss: 0.5868, val mf1: 0.6213, (best 0.6213)\n",
      "Epoch 63, loss: 0.6285, val mf1: 0.6237, (best 0.6237)\n",
      "Epoch 64, loss: 0.5666, val mf1: 0.6212, (best 0.6237)\n",
      "Epoch 65, loss: 0.5898, val mf1: 0.6111, (best 0.6237)\n",
      "Epoch 66, loss: 0.5637, val mf1: 0.5973, (best 0.6237)\n",
      "Epoch 67, loss: 0.6030, val mf1: 0.5802, (best 0.6237)\n",
      "Epoch 68, loss: 0.5467, val mf1: 0.6085, (best 0.6237)\n",
      "Epoch 69, loss: 0.5718, val mf1: 0.6234, (best 0.6237)\n",
      "Epoch 70, loss: 0.5537, val mf1: 0.6292, (best 0.6292)\n",
      "Epoch 71, loss: 0.5736, val mf1: 0.6294, (best 0.6294)\n",
      "Epoch 72, loss: 0.5407, val mf1: 0.6262, (best 0.6294)\n",
      "Epoch 73, loss: 0.5517, val mf1: 0.6208, (best 0.6294)\n",
      "Epoch 74, loss: 0.5372, val mf1: 0.6096, (best 0.6294)\n",
      "Epoch 75, loss: 0.5539, val mf1: 0.6008, (best 0.6294)\n",
      "Epoch 76, loss: 0.5334, val mf1: 0.6097, (best 0.6294)\n",
      "Epoch 77, loss: 0.5384, val mf1: 0.6230, (best 0.6294)\n",
      "Epoch 78, loss: 0.5264, val mf1: 0.6301, (best 0.6301)\n",
      "Epoch 79, loss: 0.5391, val mf1: 0.6341, (best 0.6341)\n",
      "Epoch 80, loss: 0.5258, val mf1: 0.6317, (best 0.6341)\n",
      "Epoch 81, loss: 0.5287, val mf1: 0.6297, (best 0.6341)\n",
      "Epoch 82, loss: 0.5204, val mf1: 0.6239, (best 0.6341)\n",
      "Epoch 83, loss: 0.5286, val mf1: 0.6174, (best 0.6341)\n",
      "Epoch 84, loss: 0.5195, val mf1: 0.6221, (best 0.6341)\n",
      "Epoch 85, loss: 0.5210, val mf1: 0.6307, (best 0.6341)\n",
      "Epoch 86, loss: 0.5145, val mf1: 0.6349, (best 0.6349)\n",
      "Epoch 87, loss: 0.5193, val mf1: 0.6394, (best 0.6394)\n",
      "Epoch 88, loss: 0.5129, val mf1: 0.6392, (best 0.6394)\n",
      "Epoch 89, loss: 0.5126, val mf1: 0.6386, (best 0.6394)\n",
      "Epoch 90, loss: 0.5093, val mf1: 0.6314, (best 0.6394)\n",
      "Epoch 91, loss: 0.5111, val mf1: 0.6272, (best 0.6394)\n",
      "Epoch 92, loss: 0.5075, val mf1: 0.6349, (best 0.6394)\n",
      "Epoch 93, loss: 0.5058, val mf1: 0.6404, (best 0.6404)\n",
      "Epoch 94, loss: 0.5051, val mf1: 0.6420, (best 0.6420)\n",
      "Epoch 95, loss: 0.5040, val mf1: 0.6448, (best 0.6448)\n",
      "Epoch 96, loss: 0.5026, val mf1: 0.6467, (best 0.6467)\n",
      "Epoch 97, loss: 0.4992, val mf1: 0.6442, (best 0.6467)\n",
      "Epoch 98, loss: 0.5002, val mf1: 0.6396, (best 0.6467)\n",
      "Epoch 99, loss: 0.4976, val mf1: 0.6419, (best 0.6467)\n",
      "time cost:  13042.420271635056 s\n",
      "Test: REC 33.27 PRE 29.56 MF1 64.52 AUC 85.14\n",
      "MF1-mean: 64.52, MF1-std: 0.00, AUC-mean: 85.14, AUC-std: 0.00\n"
     ]
    }
   ],
   "source": [
    "in_feats = graph.ndata['feature'].shape[1]\n",
    "num_classes = 2\n",
    "\n",
    "if args.run == 0:\n",
    "    if homo:\n",
    "        print(\"hello\")\n",
    "        model = CARE-GNN_GAD(in_feats, h_feats, num_classes, graph,lambda_1 =2)\n",
    "    else:\n",
    "        model = CARE-GNN_GAD_Hetero(in_feats, h_feats, num_classes,lambda_1 =2)\n",
    "        train(model, graph, args)\n",
    "\n",
    "else:\n",
    "    final_mf1s, final_aucs = [], []\n",
    "    for tt in range(args.run):\n",
    "        if homo:\n",
    "            #in_feats 特征点维度；h_feats：隐层维度；num_classes：节点分类数（nomal，anomaly）\n",
    "            model = CARE-GNN_GAD(in_feats, h_feats, num_classes, graph,lambda_1 =2)\n",
    "        else:\n",
    "            model = CARE-GNN_GAD_Hetero(in_feats, h_feats, num_classes, graph, lambda_1 =2)\n",
    "        mf1, auc = train(model, graph, args)\n",
    "        final_mf1s.append(mf1)\n",
    "        final_aucs.append(auc)\n",
    "    final_mf1s = np.array(final_mf1s)\n",
    "    final_aucs = np.array(final_aucs)\n",
    "    # np.std :计算全局标准差\n",
    "    print('MF1-mean: {:.2f}, MF1-std: {:.2f}, AUC-mean: {:.2f}, AUC-std: {:.2f}'.format(100 * np.mean(final_mf1s),\n",
    "                                                                                            100 * np.std(final_mf1s),\n",
    "                                                               100 * np.mean(final_aucs), 100 * np.std(final_aucs)))"
   ]
  },
  {
   "cell_type": "markdown",
   "id": "e7b61665",
   "metadata": {},
   "source": [
    "##  Test\n",
    "### 1. 按种类获取边（边存放在元组中，需要将元组转化为Tensor， 需要按边的种类，分别转化，不能一次将存放在元组中的边，转化为teosor）\n",
    "### 2. ChebConv 模型需要边的输入类型为 二维Tensor"
   ]
  },
  {
   "cell_type": "code",
   "execution_count": null,
   "id": "35fb2997",
   "metadata": {},
   "outputs": [],
   "source": [
    "from dgl.data import FraudYelpDataset, FraudAmazonDataset\n",
    "dataset = FraudAmazonDataset()\n",
    "graph = dataset[0]\n",
    "graph"
   ]
  },
  {
   "cell_type": "code",
   "execution_count": null,
   "id": "2d131ce4",
   "metadata": {},
   "outputs": [],
   "source": [
    "graph = dgl.to_homogeneous(dataset[0], ndata=['feature', 'label', 'train_mask', 'val_mask', 'test_mask'])\n",
    "graph = dgl.add_self_loop(graph)\n"
   ]
  },
  {
   "cell_type": "code",
   "execution_count": null,
   "id": "4c5451c5",
   "metadata": {},
   "outputs": [],
   "source": [
    "graph.local_scope()"
   ]
  },
  {
   "cell_type": "code",
   "execution_count": null,
   "id": "e1d2f7a1",
   "metadata": {},
   "outputs": [],
   "source": [
    "from dgl.data import FraudYelpDataset, FraudAmazonDataset\n",
    "dataset = FraudYelpDataset()\n",
    "graph = dataset[0]\n",
    "graph\n"
   ]
  },
  {
   "cell_type": "code",
   "execution_count": null,
   "id": "33c6121a",
   "metadata": {},
   "outputs": [],
   "source": [
    "for relation in graph.canonical_etypes:\n",
    "    print(relation)"
   ]
  },
  {
   "cell_type": "code",
   "execution_count": null,
   "id": "9c5a3010",
   "metadata": {},
   "outputs": [],
   "source": [
    "edges_uvu = graph[relation].edges()\n",
    "edge_index = torch.stack(edges_uvu)"
   ]
  },
  {
   "cell_type": "code",
   "execution_count": null,
   "id": "5023e692",
   "metadata": {},
   "outputs": [],
   "source": [
    "#三类边\n",
    "edges_upu = graph[graph.canonical_etypes[0]].edges()\n",
    "edge_index_upu = torch.stack(edges_upu)\n",
    "edges_usu = graph[graph.canonical_etypes[1]].edges()\n",
    "edge_index_usu = torch.stack(edges_usu)\n",
    "edges_uvu = graph[graph.canonical_etypes[2]].edges()\n",
    "edge_index_uvu = torch.stack(edges_uvu)\n",
    "\n",
    "\n",
    "# 合并连个Tensor，dim=1 按列合并\n",
    "combined_tensor = torch.cat((edge_index_upu, edge_index_usu), dim=1)\n",
    "edge_index = torch.cat((combined_tensor, edge_index_uvu), dim=1)"
   ]
  },
  {
   "cell_type": "code",
   "execution_count": null,
   "id": "eb1c1a26",
   "metadata": {},
   "outputs": [],
   "source": [
    "print(\"edge_index_upu.shape:\",edge_index_upu.shape)\n",
    "print(\"edge_index_usu.shape:\",edge_index_usu.shape)\n",
    "print(\"edge_index_uvu.shape:\",edge_index_uvu.shape)\n",
    "print(\"edge_index.shape:\",edge_index.shape)"
   ]
  },
  {
   "cell_type": "code",
   "execution_count": null,
   "id": "092ad58f",
   "metadata": {},
   "outputs": [],
   "source": [
    "g1 = graph[graph.canonical_etypes[0]]"
   ]
  },
  {
   "cell_type": "code",
   "execution_count": null,
   "id": "5a0b3c5d",
   "metadata": {},
   "outputs": [],
   "source": [
    "from dgl.data import FraudYelpDataset, FraudAmazonDataset\n",
    "dataset = FraudAmazonDataset()\n",
    "graph = dataset[0]"
   ]
  },
  {
   "cell_type": "code",
   "execution_count": null,
   "id": "115c514b",
   "metadata": {},
   "outputs": [],
   "source": [
    "g_upu = graph[graph.canonical_etypes[0]]"
   ]
  },
  {
   "cell_type": "code",
   "execution_count": null,
   "id": "7849077a",
   "metadata": {},
   "outputs": [],
   "source": [
    "g_upu.ndata['label'].shape"
   ]
  },
  {
   "cell_type": "code",
   "execution_count": null,
   "id": "f2452df5",
   "metadata": {},
   "outputs": [],
   "source": [
    "\n",
    "if homo:\n",
    "    graph = dgl.to_homogeneous(dataset[0], ndata=['feature', 'label', 'train_mask', 'val_mask', 'test_mask'])\n",
    "  \n",
    "    graph = dgl.add_self_loop(graph)\n",
    "                \n",
    "    #三类边\n",
    "    edges_upu = graph[graph.canonical_etypes[0]].edges()\n",
    "    edge_index_upu = torch.stack(edges_upu)\n",
    "    edges_usu = graph[graph.canonical_etypes[1]].edges()\n",
    "    edge_index_usu = torch.stack(edges_usu)\n",
    "    edges_uvu = graph[graph.canonical_etypes[2]].edges()\n",
    "    edge_index_uvu = torch.stack(edges_uvu)\n",
    "                \n",
    "    # 合并连个Tensor，dim=1 按列合并\n",
    "    combined_tensor = torch.cat((edge_index_upu, edge_index_usu), dim=1)\n",
    "    edge_index = torch.cat((combined_tensor, edge_index_uvu), dim=1)"
   ]
  },
  {
   "cell_type": "code",
   "execution_count": null,
   "id": "68e7d650",
   "metadata": {},
   "outputs": [],
   "source": [
    "print(graph.canonical_etypes)\n",
    "edge_index = graph.edges()\n",
    "edge_index = torch.stack(edge_index)"
   ]
  },
  {
   "cell_type": "markdown",
   "id": "92770cce",
   "metadata": {},
   "source": [
    "### 激活函数方面：nn.LeakyReLU(): LeakyReLU 是 ReLU 的一个变种，它允许负值通过一个小的斜率而不是将它们直接设为零。这个斜率是一个超参数，通常设置为一个小的正数，比如 0.01。这样做的目的是解决“ReLU 死亡神经元”问题，即某些神经元在训练过程中可能永远不会被激活，从而停止更新权重。LeakyReLU 在这种情况下可以提供更好的梯度流动，帮助网络更快地收敛。"
   ]
  },
  {
   "cell_type": "code",
   "execution_count": null,
   "id": "066abeb1",
   "metadata": {},
   "outputs": [],
   "source": []
  }
 ],
 "metadata": {
  "kernelspec": {
   "display_name": "Python 3 (ipykernel)",
   "language": "python",
   "name": "python3"
  },
  "language_info": {
   "codemirror_mode": {
    "name": "ipython",
    "version": 3
   },
   "file_extension": ".py",
   "mimetype": "text/x-python",
   "name": "python",
   "nbconvert_exporter": "python",
   "pygments_lexer": "ipython3",
   "version": "3.10.9"
  }
 },
 "nbformat": 4,
 "nbformat_minor": 5
}
