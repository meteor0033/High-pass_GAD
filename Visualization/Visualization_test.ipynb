{
 "cells": [
  {
   "cell_type": "markdown",
   "id": "3520c400",
   "metadata": {},
   "source": [
    "# dgl_grpah _to_pygsp graph"
   ]
  },
  {
   "cell_type": "code",
   "execution_count": 1,
   "id": "be915d58",
   "metadata": {},
   "outputs": [
    {
     "name": "stdout",
     "output_type": "stream",
     "text": [
      "Done loading data from cached files.\n"
     ]
    },
    {
     "data": {
      "text/plain": [
       "Graph(num_nodes={'user': 11944},\n",
       "      num_edges={('user', 'net_upu', 'user'): 351216, ('user', 'net_usu', 'user'): 7132958, ('user', 'net_uvu', 'user'): 2073474},\n",
       "      metagraph=[('user', 'user', 'net_upu'), ('user', 'user', 'net_usu'), ('user', 'user', 'net_uvu')])"
      ]
     },
     "execution_count": 1,
     "metadata": {},
     "output_type": "execute_result"
    }
   ],
   "source": [
    "import dgl\n",
    "import networkx as nx\n",
    "import matplotlib.pyplot as plt\n",
    "import torch\n",
    "from dgl.data import FraudYelpDataset, FraudAmazonDataset\n",
    "import pygsp\n",
    "import scipy.sparse as sp\n",
    "dataset = FraudAmazonDataset()\n",
    "graph = dataset[0]\n",
    "graph"
   ]
  },
  {
   "cell_type": "code",
   "execution_count": 2,
   "id": "0cf60b90",
   "metadata": {},
   "outputs": [],
   "source": [
    "#三类边\n",
    "#edges_upu = graph[graph.canonical_etypes[0]].edges()\n",
    "#edge_index_upu = torch.stack(edges_upu)\n",
    "#edges_usu = graph[graph.canonical_etypes[1]].edges()\n",
    "#edge_index_usu = torch.stack(edges_usu)\n",
    "#edges_uvu = graph[graph.canonical_etypes[2]].edges()\n",
    "#edge_index_uvu = torch.stack(edges_uvu)\n",
    "\n",
    "\n",
    "# 合并连个Tensor，dim=1 按列合并\n",
    "#combined_tensor = torch.cat((edge_index_upu, edge_index_usu), dim=1)\n",
    "#edge_index = torch.cat((combined_tensor, edge_index_uvu), dim=1)\n",
    "\n",
    "\n",
    "\n",
    "g_upu = graph[graph.canonical_etypes[2]]"
   ]
  },
  {
   "cell_type": "code",
   "execution_count": 3,
   "id": "a4f55f6b",
   "metadata": {},
   "outputs": [
    {
     "name": "stdout",
     "output_type": "stream",
     "text": [
      "tensor([ 11,  13, 191,  ..., 129, 121, 121])\n"
     ]
    },
    {
     "data": {
      "text/plain": [
       "tensor(81)"
      ]
     },
     "execution_count": 3,
     "metadata": {},
     "output_type": "execute_result"
    }
   ],
   "source": [
    "g_upu_degree = g_upu.in_degrees()\n",
    "print(g_upu_degree)\n",
    "g_upu_degree_mask = (g_upu_degree == 0)\n",
    "sum(g_upu_degree_mask)"
   ]
  },
  {
   "cell_type": "code",
   "execution_count": 4,
   "id": "1ab2636e",
   "metadata": {},
   "outputs": [],
   "source": [
    "adj_matrix = graph.adj(etype='net_upu')\n",
    "shape =  adj_matrix.shape\n",
    "values = adj_matrix.val\n",
    "indices = adj_matrix.indices()\n",
    "\n",
    "# Convert PyTorch tensors to NumPy arrays\n",
    "indices_np = indices.numpy()\n",
    "values_np = values.numpy()"
   ]
  },
  {
   "cell_type": "code",
   "execution_count": 5,
   "id": "bbe8161a",
   "metadata": {},
   "outputs": [],
   "source": [
    "# Create a SciPy sparse matrix (COO format)\n",
    "coo_matrix = sp.coo_matrix((values_np, (indices_np[0], indices_np[1])), shape=shape)"
   ]
  },
  {
   "cell_type": "code",
   "execution_count": null,
   "id": "6f70c213",
   "metadata": {},
   "outputs": [],
   "source": []
  }
 ],
 "metadata": {
  "kernelspec": {
   "display_name": "Python 3 (ipykernel)",
   "language": "python",
   "name": "python3"
  },
  "language_info": {
   "codemirror_mode": {
    "name": "ipython",
    "version": 3
   },
   "file_extension": ".py",
   "mimetype": "text/x-python",
   "name": "python",
   "nbconvert_exporter": "python",
   "pygments_lexer": "ipython3",
   "version": "3.10.15"
  }
 },
 "nbformat": 4,
 "nbformat_minor": 5
}
