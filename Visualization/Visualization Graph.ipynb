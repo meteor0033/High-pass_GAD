{
 "cells": [
  {
   "cell_type": "markdown",
   "id": "b3f0fd9c",
   "metadata": {},
   "source": [
    "# 1. 可视化Amazon中的g_upu"
   ]
  },
  {
   "cell_type": "code",
   "execution_count": 1,
   "id": "7edc0ce1",
   "metadata": {},
   "outputs": [
    {
     "name": "stdout",
     "output_type": "stream",
     "text": [
      "Done loading data from cached files.\n"
     ]
    }
   ],
   "source": [
    "import dgl\n",
    "import networkx as nx\n",
    "import matplotlib.pyplot as plt\n",
    "import torch\n",
    "from dgl.data import FraudYelpDataset, FraudAmazonDataset\n",
    "import pygsp\n",
    "#dataset = FraudYelpDataset()\n",
    "dataset = FraudAmazonDataset()\n",
    "graph = dataset[0]\n"
   ]
  },
  {
   "cell_type": "code",
   "execution_count": 2,
   "id": "69411d0e",
   "metadata": {},
   "outputs": [
    {
     "data": {
      "text/plain": [
       "Graph(num_nodes={'user': 11944},\n",
       "      num_edges={('user', 'net_upu', 'user'): 351216, ('user', 'net_usu', 'user'): 7132958, ('user', 'net_uvu', 'user'): 2073474},\n",
       "      metagraph=[('user', 'user', 'net_upu'), ('user', 'user', 'net_usu'), ('user', 'user', 'net_uvu')])"
      ]
     },
     "execution_count": 2,
     "metadata": {},
     "output_type": "execute_result"
    }
   ],
   "source": [
    "graph"
   ]
  },
  {
   "cell_type": "code",
   "execution_count": 3,
   "id": "de206767",
   "metadata": {},
   "outputs": [],
   "source": [
    "#三类边\n",
    "edges_upu = graph[graph.canonical_etypes[0]].edges()\n",
    "edge_index_upu = torch.stack(edges_upu)\n",
    "edges_usu = graph[graph.canonical_etypes[1]].edges()\n",
    "edge_index_usu = torch.stack(edges_usu)\n",
    "edges_uvu = graph[graph.canonical_etypes[2]].edges()\n",
    "edge_index_uvu = torch.stack(edges_uvu)\n",
    "\n",
    "\n",
    "# 合并连个Tensor，dim=1 按列合并\n",
    "combined_tensor = torch.cat((edge_index_upu, edge_index_usu), dim=1)\n",
    "edge_index = torch.cat((combined_tensor, edge_index_uvu), dim=1)"
   ]
  },
  {
   "cell_type": "code",
   "execution_count": 4,
   "id": "0930ddeb",
   "metadata": {},
   "outputs": [
    {
     "data": {
      "text/plain": [
       "<Figure size 2400x2400 with 0 Axes>"
      ]
     },
     "execution_count": 4,
     "metadata": {},
     "output_type": "execute_result"
    },
    {
     "data": {
      "text/plain": [
       "<Figure size 2400x2400 with 0 Axes>"
      ]
     },
     "metadata": {},
     "output_type": "display_data"
    }
   ],
   "source": [
    "# 将DGL图转换为NetworkX图\n",
    "g_upu = graph[graph.canonical_etypes[1]]\n",
    "nx_g = g_upu.to_networkx()\n",
    "\n",
    "# 设置图形尺寸\n",
    "plt.figure(figsize=(24, 24))"
   ]
  },
  {
   "cell_type": "code",
   "execution_count": 5,
   "id": "74f979cd",
   "metadata": {},
   "outputs": [
    {
     "data": {
      "text/plain": [
       "tensor(90)"
      ]
     },
     "execution_count": 5,
     "metadata": {},
     "output_type": "execute_result"
    }
   ],
   "source": [
    "degrees_g_upu = g_upu.in_degrees()\n",
    "sum(degrees_g_upu == 0)"
   ]
  },
  {
   "cell_type": "code",
   "execution_count": 6,
   "id": "653f2c4f",
   "metadata": {},
   "outputs": [],
   "source": [
    "# 提取节点标签信息\n",
    "node_labels = {node: label for node, label in zip(nx_g.nodes(), g_upu.ndata['label'])}\n",
    "\n",
    "# 定义节点颜色映射\n",
    "color_map = {0: 'red', 1: 'blue'}"
   ]
  },
  {
   "cell_type": "code",
   "execution_count": null,
   "id": "cd216ea7",
   "metadata": {},
   "outputs": [],
   "source": [
    "\n",
    "# 根据节点标签设置节点颜色\n",
    "node_colors = [color_map[label.item()] for label in g_upu.ndata['label']]\n",
    "\n",
    "# 使用spring布局算法设置图的布局\n",
    "pos = nx.spring_layout(nx_g)\n",
    "#pos = nx.spectral_layout(nx_g)\n",
    "#pos = nx.random_layout(nx_g)\n",
    "\n",
    "# 绘制NetworkX图，并设置节点颜色\n",
    "nx.draw(nx_g, pos, node_color=node_colors,node_size= 3)\n",
    "plt.show()\n"
   ]
  },
  {
   "cell_type": "markdown",
   "id": "733ebcb1",
   "metadata": {},
   "source": [
    "# 2. 可视化rur中的g_rur"
   ]
  },
  {
   "cell_type": "code",
   "execution_count": null,
   "id": "7b502c34-3bc3-45f4-83ee-94d152f4ebfe",
   "metadata": {},
   "outputs": [],
   "source": [
    "import torch"
   ]
  },
  {
   "cell_type": "code",
   "execution_count": null,
   "id": "f675b8ee",
   "metadata": {
    "scrolled": true
   },
   "outputs": [],
   "source": [
    "#import dgl\n",
    "import networkx as nx\n",
    "import matplotlib.pyplot as plt\n",
    "import torch\n",
    "from dgl.data import FraudYelpDataset, FraudAmazonDataset\n",
    "dataset = FraudYelpDataset()\n",
    "graph = dataset[0]\n",
    "graph\n",
    "\n"
   ]
  },
  {
   "cell_type": "code",
   "execution_count": null,
   "id": "110cf32f-774c-4e6f-8717-b2a8ef292fcb",
   "metadata": {},
   "outputs": [],
   "source": [
    "g_rur = graph[graph.canonical_etypes[2]]"
   ]
  },
  {
   "cell_type": "code",
   "execution_count": null,
   "id": "50f18915-c63c-4894-8afe-8e996e8a79aa",
   "metadata": {},
   "outputs": [],
   "source": [
    "g_rur"
   ]
  },
  {
   "cell_type": "code",
   "execution_count": null,
   "id": "0993c974",
   "metadata": {},
   "outputs": [],
   "source": [
    "# 将DGL图转换为NetworkX图\n",
    "g_rur = graph[graph.canonical_etypes[2]]\n",
    "nx_g = g_rur.to_networkx()\n",
    "\n",
    "# 设置图形尺寸\n",
    "plt.figure(figsize=(12, 12))\n",
    "\n",
    "# 提取节点标签信息\n",
    "node_labels = {node: label for node, label in zip(nx_g.nodes(), g_upu.ndata['label'])}\n",
    "\n",
    "# 定义节点颜色映射\n",
    "color_map = {0: 'red', 1: 'blue'}\n",
    "\n",
    "#根据节点标签设置节点颜色\n",
    "node_colors = [color_map[label.item()] for label in g_rur.ndata['label']]\n",
    "\n",
    "# 使用spring布局算法设置图的布局\n",
    "pos = nx.spring_layout(nx_g)\n",
    "#pos = nx.spectral_layout(nx_g)\n",
    "#pos = nx.random_layout(nx_g)\n",
    "\n",
    "# 绘制NetworkX图，并设置节点颜色\n",
    "nx.draw(nx_g, pos, node_color=node_colors,node_size= 10)\n",
    "plt.show()\n"
   ]
  },
  {
   "cell_type": "code",
   "execution_count": null,
   "id": "c64f17e1-143c-4f12-b3a0-dcdb19e41399",
   "metadata": {},
   "outputs": [],
   "source": [
    "degrees_g_rur = g_rur.in_degrees()\n",
    "sum(degrees_g_rur == 0)"
   ]
  },
  {
   "cell_type": "code",
   "execution_count": null,
   "id": "4ec6bc32",
   "metadata": {},
   "outputs": [],
   "source": [
    "##########################################################\n",
    "##########  test                                    ######\n",
    "##########################################################\n",
    "# DGL 可视化图中的随机选取部分节点构成的图\n",
    "import dgl\n",
    "import numpy as np\n",
    "import matplotlib.pyplot as plt\n",
    "\n",
    "# 创建一个随机的图\n",
    "num_nodes = 100\n",
    "num_edges = 150\n",
    "graph = dgl.rand_graph(num_nodes, num_edges)\n",
    "\n",
    "# 选择要可视化的随机节点\n",
    "num_nodes_to_visualize = 10\n",
    "random_nodes = np.random.choice(num_nodes, num_nodes_to_visualize, replace=False)\n",
    "\n",
    "# 获取节点的特征\n",
    "node_features = graph.ndata['feat'][random_nodes]\n",
    "\n",
    "# 绘制节点\n",
    "plt.figure(figsize=(8, 6))\n",
    "plt.scatter(node_features[:, 0], node_features[:, 1], color='blue', label='Nodes')\n",
    "\n",
    "# 绘制边\n",
    "src, dst = graph.edges()\n",
    "for i in range(len(src)):\n",
    "    x = [node_features[src[i], 0], node_features[dst[i], 0]]\n",
    "    y = [node_features[src[i], 1], node_features[dst[i], 1]]\n",
    "    plt.plot(x, y, color='gray', alpha=0.5)\n",
    "\n",
    "plt.xlabel('Feature 1')\n",
    "plt.ylabel('Feature 2')\n",
    "plt.title('Visualization of Random Nodes in Graph')\n",
    "plt.legend()\n",
    "plt.show()"
   ]
  },
  {
   "cell_type": "code",
   "execution_count": null,
   "id": "62ecfe94",
   "metadata": {},
   "outputs": [],
   "source": []
  }
 ],
 "metadata": {
  "kernelspec": {
   "display_name": "Python 3 (ipykernel)",
   "language": "python",
   "name": "python3"
  },
  "language_info": {
   "codemirror_mode": {
    "name": "ipython",
    "version": 3
   },
   "file_extension": ".py",
   "mimetype": "text/x-python",
   "name": "python",
   "nbconvert_exporter": "python",
   "pygments_lexer": "ipython3",
   "version": "3.10.15"
  }
 },
 "nbformat": 4,
 "nbformat_minor": 5
}
